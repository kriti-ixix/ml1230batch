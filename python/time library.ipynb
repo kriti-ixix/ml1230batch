{
 "cells": [
  {
   "cell_type": "markdown",
   "metadata": {},
   "source": [
    "# Using Time Library"
   ]
  },
  {
   "cell_type": "markdown",
   "metadata": {},
   "source": [
    "**To get the current time of the system in seconds since epoch**"
   ]
  },
  {
   "cell_type": "code",
   "execution_count": 2,
   "metadata": {},
   "outputs": [
    {
     "data": {
      "text/plain": [
       "1614331230.759458"
      ]
     },
     "execution_count": 2,
     "metadata": {},
     "output_type": "execute_result"
    }
   ],
   "source": [
    "import time \n",
    "\n",
    "time.time()"
   ]
  },
  {
   "cell_type": "markdown",
   "metadata": {},
   "source": [
    "**To see how much time a certain process took**"
   ]
  },
  {
   "cell_type": "code",
   "execution_count": 5,
   "metadata": {},
   "outputs": [
    {
     "name": "stdout",
     "output_type": "stream",
     "text": [
      "Starting...\n",
      "Ending...\n",
      "Time taken:  4.9960198402404785\n"
     ]
    }
   ],
   "source": [
    "import time\n",
    "\n",
    "startTime = time.time()\n",
    "print(\"Starting...\")\n",
    "time.sleep(5)\n",
    "print(\"Ending...\")\n",
    "endTime = time.time()\n",
    "print(\"Time taken: \", endTime-startTime)"
   ]
  },
  {
   "cell_type": "markdown",
   "metadata": {},
   "source": [
    "**Printing numbers 1-10 with a one second gap**"
   ]
  },
  {
   "cell_type": "code",
   "execution_count": 7,
   "metadata": {},
   "outputs": [
    {
     "name": "stdout",
     "output_type": "stream",
     "text": [
      "1\n",
      "2\n",
      "3\n",
      "4\n",
      "5\n",
      "6\n",
      "7\n",
      "8\n",
      "9\n",
      "10\n"
     ]
    }
   ],
   "source": [
    "for i in range(1,11):\n",
    "    print(i)\n",
    "    time.sleep(1)"
   ]
  },
  {
   "cell_type": "markdown",
   "metadata": {},
   "source": [
    "**Structure of time class**"
   ]
  },
  {
   "cell_type": "markdown",
   "metadata": {},
   "source": [
    "time.struct_time(tm_year, tm_mon, tm_mday, tm_hour, tm_min, tm_sec, tm_wday, tm_yday, tm_isdst)\n",
    "\n",
    "The struct is a tuple with 9 elements"
   ]
  },
  {
   "cell_type": "markdown",
   "metadata": {},
   "source": [
    "**Getting struct_time in local time**"
   ]
  },
  {
   "cell_type": "code",
   "execution_count": 11,
   "metadata": {},
   "outputs": [
    {
     "name": "stdout",
     "output_type": "stream",
     "text": [
      "Time struct:  time.struct_time(tm_year=2021, tm_mon=2, tm_mday=26, tm_hour=14, tm_min=58, tm_sec=58, tm_wday=4, tm_yday=57, tm_isdst=0)\n",
      "\n",
      "tm_hour:  14\n"
     ]
    }
   ],
   "source": [
    "epoch_seconds = time.time()\n",
    "result = time.localtime(epoch_seconds)\n",
    "print(\"Time struct: \", result)\n",
    "print(\"\\ntm_hour: \", result.tm_hour)"
   ]
  },
  {
   "cell_type": "markdown",
   "metadata": {},
   "source": [
    "**Getting struct in Greenwich Mean Time/UTC**"
   ]
  },
  {
   "cell_type": "code",
   "execution_count": 12,
   "metadata": {},
   "outputs": [
    {
     "name": "stdout",
     "output_type": "stream",
     "text": [
      "Time struct:  time.struct_time(tm_year=2021, tm_mon=2, tm_mday=26, tm_hour=9, tm_min=30, tm_sec=6, tm_wday=4, tm_yday=57, tm_isdst=0)\n",
      "\n",
      "tm_min:  30\n"
     ]
    }
   ],
   "source": [
    "epoch_seconds = time.time()\n",
    "result = time.gmtime(epoch_seconds)\n",
    "print(\"Time struct: \", result)\n",
    "print(\"\\ntm_min: \", result.tm_min)"
   ]
  },
  {
   "cell_type": "markdown",
   "metadata": {},
   "source": [
    "**Taking a tuple and returning the seconds since epoch time**"
   ]
  },
  {
   "cell_type": "code",
   "execution_count": 14,
   "metadata": {},
   "outputs": [
    {
     "name": "stdout",
     "output_type": "stream",
     "text": [
      "Local time in epoch seconds:  1543979644.0\n"
     ]
    }
   ],
   "source": [
    "#t is the tuple that will take nine elements \n",
    "t = (2018, 12, 5, 8, 44, 4, 4, 362, 0)\n",
    "\n",
    "local_time = time.mktime(t)\n",
    "print(\"Local time in epoch seconds: \", local_time)"
   ]
  },
  {
   "cell_type": "markdown",
   "metadata": {},
   "source": [
    "**Taking a tuple and returning the time in string format**"
   ]
  },
  {
   "cell_type": "code",
   "execution_count": 15,
   "metadata": {},
   "outputs": [
    {
     "name": "stdout",
     "output_type": "stream",
     "text": [
      "Result:  Fri Dec  5 08:44:04 2018\n"
     ]
    }
   ],
   "source": [
    "t = (2018, 12, 5, 8, 44, 4, 4, 362, 0)\n",
    "\n",
    "result = time.asctime(t)\n",
    "print(\"Result: \", result)"
   ]
  },
  {
   "cell_type": "markdown",
   "metadata": {},
   "source": [
    "**String formatting the time**"
   ]
  },
  {
   "cell_type": "code",
   "execution_count": 17,
   "metadata": {},
   "outputs": [
    {
     "name": "stdout",
     "output_type": "stream",
     "text": [
      "15 : 06: 18\n"
     ]
    }
   ],
   "source": [
    "ourTuple = time.localtime()\n",
    "ourString = time.strftime(\"%H : %M: %S\",ourTuple)\n",
    "print(ourString)"
   ]
  },
  {
   "cell_type": "markdown",
   "metadata": {},
   "source": [
    "Formatting options:\n",
    "\n",
    "\n",
    "%Y - Year     \n",
    "\n",
    "%m - Month     \n",
    "\n",
    "%d - Date\n",
    "\n",
    "%H - Hour     \n",
    "\n",
    "%M - Minute     \n",
    "\n",
    "%S - Second"
   ]
  }
 ],
 "metadata": {
  "kernelspec": {
   "display_name": "Python 3",
   "language": "python",
   "name": "python3"
  },
  "language_info": {
   "codemirror_mode": {
    "name": "ipython",
    "version": 3
   },
   "file_extension": ".py",
   "mimetype": "text/x-python",
   "name": "python",
   "nbconvert_exporter": "python",
   "pygments_lexer": "ipython3",
   "version": "3.8.2"
  }
 },
 "nbformat": 4,
 "nbformat_minor": 4
}
