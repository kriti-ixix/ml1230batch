{
 "cells": [
  {
   "cell_type": "markdown",
   "metadata": {},
   "source": [
    "**Simple try-except block**"
   ]
  },
  {
   "cell_type": "code",
   "execution_count": 9,
   "metadata": {},
   "outputs": [
    {
     "name": "stdout",
     "output_type": "stream",
     "text": [
      "Hello World\n",
      "Execution finished\n"
     ]
    }
   ],
   "source": [
    "try:\n",
    "    #Normal running of code here\n",
    "    print(\"Hello World\")\n",
    "    \n",
    "except:\n",
    "    #In case of any exceptions\n",
    "    print(\"Caught an error\")\n",
    "    \n",
    "finally:\n",
    "    print(\"Execution finished\")"
   ]
  },
  {
   "cell_type": "markdown",
   "metadata": {},
   "source": [
    "**Handling IndexError**"
   ]
  },
  {
   "cell_type": "code",
   "execution_count": 10,
   "metadata": {},
   "outputs": [
    {
     "name": "stdout",
     "output_type": "stream",
     "text": [
      "Index not found\n"
     ]
    }
   ],
   "source": [
    "try:\n",
    "    myList = [1,2,3]\n",
    "    print(myList[5])\n",
    "    #In this case, index 5 does not exist in the list and hence an IndexError is raised\n",
    "\n",
    "except IndexError:\n",
    "    print(\"Index not found\")\n",
    "    \n",
    "except:\n",
    "    print(\"Error\")"
   ]
  },
  {
   "cell_type": "markdown",
   "metadata": {},
   "source": [
    "**Handling KeyError**"
   ]
  },
  {
   "cell_type": "code",
   "execution_count": 15,
   "metadata": {},
   "outputs": [
    {
     "name": "stdout",
     "output_type": "stream",
     "text": [
      "Key not found\n"
     ]
    }
   ],
   "source": [
    "try:\n",
    "    myDict = {'a':1, 'b':5, 'c':20}\n",
    "    print(myDict['e'])\n",
    "    #In this case, 'e' key does not exist and hence a KeyError is raised\n",
    "    \n",
    "except IndexError:\n",
    "    print(\"Index not found\")\n",
    "    \n",
    "except KeyError:\n",
    "    print(\"Key not found\")\n",
    "    \n",
    "except:\n",
    "    print(\"Error\")"
   ]
  },
  {
   "cell_type": "markdown",
   "metadata": {},
   "source": [
    "**Raising an exception**"
   ]
  },
  {
   "cell_type": "code",
   "execution_count": 16,
   "metadata": {},
   "outputs": [
    {
     "name": "stdout",
     "output_type": "stream",
     "text": [
      "Please enter your name: XYZ\n",
      "Error\n"
     ]
    }
   ],
   "source": [
    "try:\n",
    "    name = input(\"Please enter your name: \")\n",
    "    #raise NameError\n",
    "    raise IndexError\n",
    "    \n",
    "except IndexError:\n",
    "    print(\"Error\")\n",
    "    \n",
    "except:\n",
    "    print(\"General error\")"
   ]
  },
  {
   "cell_type": "markdown",
   "metadata": {},
   "source": [
    "**Making a custom exception**"
   ]
  },
  {
   "cell_type": "code",
   "execution_count": 1,
   "metadata": {},
   "outputs": [
    {
     "name": "stdout",
     "output_type": "stream",
     "text": [
      "Enter your guess: 4\n",
      "Too small value\n",
      "Enter your guess: 20\n",
      "Too large value\n",
      "Enter your guess: abc\n",
      "Error\n",
      "Enter your guess: 10\n",
      "You guessed correctly\n"
     ]
    }
   ],
   "source": [
    "class Error(Exception):\n",
    "    pass\n",
    "\n",
    "class ValueTooSmallError(Error):\n",
    "    pass\n",
    "\n",
    "class ValueTooLargeError(Error):\n",
    "    pass\n",
    "\n",
    "number = 10\n",
    "\n",
    "while True:\n",
    "    try:\n",
    "        i_num = int(input(\"Enter your guess: \"))\n",
    "        \n",
    "        if (i_num>number):\n",
    "            raise ValueTooLargeError\n",
    "        elif (i_num<number):\n",
    "            raise ValueTooSmallError\n",
    "        else:\n",
    "            print(\"You guessed correctly\")\n",
    "            break\n",
    "        \n",
    "    except ValueTooLargeError:\n",
    "        print(\"Too large value\")\n",
    "        \n",
    "    except ValueTooSmallError:\n",
    "        print(\"Too small value\")\n",
    "        \n",
    "    except:\n",
    "        print(\"Error\")"
   ]
  },
  {
   "cell_type": "code",
   "execution_count": 2,
   "metadata": {},
   "outputs": [
    {
     "name": "stdout",
     "output_type": "stream",
     "text": [
      "Please enter your email: kriti@gmail.com\n",
      "Please enter your password: 123\n",
      "Password is too short\n"
     ]
    }
   ],
   "source": [
    "class Error(Exception):\n",
    "    pass\n",
    "\n",
    "class EmailError(Error):\n",
    "    pass\n",
    "\n",
    "class PasswordError(Error):\n",
    "    pass\n",
    "\n",
    "try:\n",
    "    email = input(\"Please enter your email: \")\n",
    "\n",
    "    if '@' and '.com' not in email:\n",
    "        raise EmailError\n",
    "        \n",
    "    password = input(\"Please enter your password: \")\n",
    "    \n",
    "    if len(password)<6:\n",
    "        raise PasswordError\n",
    "    \n",
    "    \n",
    "except EmailError:\n",
    "    print(\"Invalid email\")\n",
    "    \n",
    "except PasswordError:\n",
    "    print(\"Password is too short\")\n",
    "    \n",
    "except:\n",
    "    print(\"An error occurred\")"
   ]
  },
  {
   "cell_type": "code",
   "execution_count": null,
   "metadata": {},
   "outputs": [],
   "source": []
  }
 ],
 "metadata": {
  "kernelspec": {
   "display_name": "Python 3",
   "language": "python",
   "name": "python3"
  },
  "language_info": {
   "codemirror_mode": {
    "name": "ipython",
    "version": 3
   },
   "file_extension": ".py",
   "mimetype": "text/x-python",
   "name": "python",
   "nbconvert_exporter": "python",
   "pygments_lexer": "ipython3",
   "version": "3.8.2"
  }
 },
 "nbformat": 4,
 "nbformat_minor": 4
}
