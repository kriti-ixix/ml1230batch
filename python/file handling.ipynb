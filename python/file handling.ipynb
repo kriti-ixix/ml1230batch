{
 "cells": [
  {
   "cell_type": "code",
   "execution_count": 2,
   "metadata": {},
   "outputs": [],
   "source": [
    "#Writing to a file\n",
    "\n",
    "file = open(\"VacationPlaces.txt\", \"a\")\n",
    "VacationPlaces = [\"A\", \"B\", \"C\", \"D\", \"E\"]\n",
    "\n",
    "for spot in VacationPlaces:\n",
    "    file.write(spot + \"\\n\")\n",
    "\n",
    "file.close()"
   ]
  },
  {
   "cell_type": "code",
   "execution_count": 11,
   "metadata": {},
   "outputs": [
    {
     "name": "stdout",
     "output_type": "stream",
     "text": [
      "A\n",
      "B\n",
      "C\n",
      "D\n",
      "E\n",
      "F\n",
      "\n"
     ]
    }
   ],
   "source": [
    "#Reading a file\n",
    "\n",
    "readingFile = open(\"VacationPlaces.txt\", \"r\")\n",
    "\n",
    "print(readingFile.read())\n",
    "\n",
    "readingFile.close()"
   ]
  },
  {
   "cell_type": "code",
   "execution_count": 10,
   "metadata": {},
   "outputs": [
    {
     "name": "stdout",
     "output_type": "stream",
     "text": [
      "A\n",
      "\n",
      "B\n",
      "\n"
     ]
    }
   ],
   "source": [
    "#Reading line by line\n",
    "\n",
    "readingFile = open(\"VacationPlaces.txt\", \"r\")\n",
    "\n",
    "print(readingFile.readline())\n",
    "print(readingFile.readline())\n",
    "\n",
    "readingFile.close()"
   ]
  },
  {
   "cell_type": "code",
   "execution_count": 5,
   "metadata": {},
   "outputs": [
    {
     "name": "stdout",
     "output_type": "stream",
     "text": [
      "Enter the file name: VacationPlaces\n",
      "Choose an option: \n",
      "1.Read\t2.Write\t3.Append\n",
      "2\n",
      "Writing\n"
     ]
    }
   ],
   "source": [
    "#Note making\n",
    "\n",
    "filename = input(\"Enter the file name: \") + \".txt\"\n",
    "\n",
    "print(\"Choose an option: \")\n",
    "choice = input(\"1.Read\\t2.Write\\t3.Append\\n\")\n",
    "\n",
    "if (choice=='1'):\n",
    "    print(\"Reading\")\n",
    "    \n",
    "elif (choice=='2'):\n",
    "    print(\"Writing\")\n",
    "    \n",
    "elif (choice=='3'):\n",
    "    print(\"Appending to the file\")\n",
    "    \n",
    "else:\n",
    "    print(\"Invalid option\")"
   ]
  },
  {
   "cell_type": "code",
   "execution_count": null,
   "metadata": {},
   "outputs": [],
   "source": []
  }
 ],
 "metadata": {
  "kernelspec": {
   "display_name": "Python 3",
   "language": "python",
   "name": "python3"
  },
  "language_info": {
   "codemirror_mode": {
    "name": "ipython",
    "version": 3
   },
   "file_extension": ".py",
   "mimetype": "text/x-python",
   "name": "python",
   "nbconvert_exporter": "python",
   "pygments_lexer": "ipython3",
   "version": "3.8.2"
  }
 },
 "nbformat": 4,
 "nbformat_minor": 4
}
